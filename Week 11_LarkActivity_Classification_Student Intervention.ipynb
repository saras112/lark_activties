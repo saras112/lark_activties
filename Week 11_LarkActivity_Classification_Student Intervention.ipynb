{
 "cells": [
  {
   "cell_type": "markdown",
   "id": "c56e6d00",
   "metadata": {},
   "source": [
    "A local school district has a goal to reach a 95% graduation rate by the end of the decade by identifying students who need intervention before they drop out of school. As a software engineer contacted by the school district, your task is to model the factors that predict how likely a student is to pass their high school final exam, by constructing an intervention system that leverages supervised learning techniques. The board of supervisors has asked that you find the most effective model that uses the least amount of computation costs to save on the budget. You will need to analyze the dataset on students' performance and develop a model that will predict a given student will pass, quantifying whether an intervention is necessary."
   ]
  },
  {
   "cell_type": "markdown",
   "id": "98498851",
   "metadata": {},
   "source": [
    "The dataset used in this activity is included as `student-data.csv`. This dataset has the following attributes:\n",
    "\n",
    "- `school` : student's school (binary: \"GP\" or \"MS\")\n",
    "- `sex` : student's sex (binary: \"F\" - female or \"M\" - male)\n",
    "- `age` : student's age (numeric: from 15 to 22)\n",
    "- `address` : student's home address type (binary: \"U\" - urban or \"R\" - rural)\n",
    "- `famsize` : family size (binary: \"LE3\" - less or equal to 3 or \"GT3\" - greater than 3)\n",
    "- `Pstatus` : parent's cohabitation status (binary: \"T\" - living together or \"A\" - apart)\n",
    "- `Medu` : mother's education (numeric: 0 - none,  1 - primary education (4th grade), 2 - 5th to 9th grade, 3 - secondary education or 4 - higher education)\n",
    "- `Fedu` : father's education (numeric: 0 - none,  1 - primary education (4th grade), 2 - 5th to 9th grade, 3 - secondary education or 4 - higher education)\n",
    "- `Mjob` : mother's job (nominal: \"teacher\", \"health\" care related, civil \"services\" (e.g. administrative or police), \"at_home\" or \"other\")\n",
    "- `Fjob` : father's job (nominal: \"teacher\", \"health\" care related, civil \"services\" (e.g. administrative or police), \"at_home\" or \"other\")\n",
    "- `reason` : reason to choose this school (nominal: close to \"home\", school \"reputation\", \"course\" preference or \"other\")\n",
    "- `guardian` : student's guardian (nominal: \"mother\", \"father\" or \"other\")\n",
    "- `traveltime` : home to school travel time (numeric: 1 - <15 min., 2 - 15 to 30 min., 3 - 30 min. to 1 hour, or 4 - >1 hour)\n",
    "- `studytime` : weekly study time (numeric: 1 - <2 hours, 2 - 2 to 5 hours, 3 - 5 to 10 hours, or 4 - >10 hours)\n",
    "-  `failures` : number of past class failures (numeric: n if 1<=n<3, else 4)\n",
    "- `schoolsup` : extra educational support (binary: yes or no)\n",
    "- `famsup` : family educational support (binary: yes or no)\n",
    "- `paid` : extra paid classes within the course subject (Math or Portuguese) (binary: yes or no)\n",
    "- `activities` : extra-curricular activities (binary: yes or no)\n",
    "- `nursery` : attended nursery school (binary: yes or no)\n",
    "- `higher` : wants to take higher education (binary: yes or no)\n",
    "-  `internet` : Internet access at home (binary: yes or no)\n",
    "- `romantic` : with a romantic relationship (binary: yes or no)\n",
    "- `famrel` : quality of family relationships (numeric: from 1 - very bad to 5 - excellent)\n",
    "-  `freetime` : free time after school (numeric: from 1 - very low to 5 - very high)\n",
    "- `goout` : going out with friends (numeric: from 1 - very low to 5 - very high)\n",
    "- `Dalc` : workday alcohol consumption (numeric: from 1 - very low to 5 - very high)\n",
    "- `Walc` : weekend alcohol consumption (numeric: from 1 - very low to 5 - very high)\n",
    "- `health` : current health status (numeric: from 1 - very bad to 5 - very good)\n",
    "-`absences` : number of school absences (numeric: from 0 to 93)\n",
    "- `passed` : did the student pass the final exam (binary: yes or no)\n",
    "\n"
   ]
  },
  {
   "cell_type": "markdown",
   "id": "ed422c7c",
   "metadata": {},
   "source": [
    "---------------------\n",
    "Our goal is to develop a model that will predict a given student will pass, quantifying whether an intervention is necessary.\n",
    "\n",
    "This is a classification machine learning problem with the target variable as 'passed' with two binary values yes or no. "
   ]
  },
  {
   "cell_type": "code",
   "execution_count": 105,
   "id": "e06ac190",
   "metadata": {},
   "outputs": [],
   "source": [
    "#importing neccessary libraries \n",
    "import numpy as np\n",
    "import pandas as pd "
   ]
  },
  {
   "cell_type": "code",
   "execution_count": 106,
   "id": "49dbc737",
   "metadata": {},
   "outputs": [],
   "source": [
    "#Reading the dataset \n",
    "df = pd.read_csv('student-data.csv')"
   ]
  },
  {
   "cell_type": "code",
   "execution_count": 107,
   "id": "59403e31",
   "metadata": {},
   "outputs": [
    {
     "data": {
      "text/html": [
       "<div>\n",
       "<style scoped>\n",
       "    .dataframe tbody tr th:only-of-type {\n",
       "        vertical-align: middle;\n",
       "    }\n",
       "\n",
       "    .dataframe tbody tr th {\n",
       "        vertical-align: top;\n",
       "    }\n",
       "\n",
       "    .dataframe thead th {\n",
       "        text-align: right;\n",
       "    }\n",
       "</style>\n",
       "<table border=\"1\" class=\"dataframe\">\n",
       "  <thead>\n",
       "    <tr style=\"text-align: right;\">\n",
       "      <th></th>\n",
       "      <th>school</th>\n",
       "      <th>sex</th>\n",
       "      <th>age</th>\n",
       "      <th>address</th>\n",
       "      <th>famsize</th>\n",
       "      <th>Pstatus</th>\n",
       "      <th>Medu</th>\n",
       "      <th>Fedu</th>\n",
       "      <th>Mjob</th>\n",
       "      <th>Fjob</th>\n",
       "      <th>...</th>\n",
       "      <th>internet</th>\n",
       "      <th>romantic</th>\n",
       "      <th>famrel</th>\n",
       "      <th>freetime</th>\n",
       "      <th>goout</th>\n",
       "      <th>Dalc</th>\n",
       "      <th>Walc</th>\n",
       "      <th>health</th>\n",
       "      <th>absences</th>\n",
       "      <th>passed</th>\n",
       "    </tr>\n",
       "  </thead>\n",
       "  <tbody>\n",
       "    <tr>\n",
       "      <th>0</th>\n",
       "      <td>GP</td>\n",
       "      <td>F</td>\n",
       "      <td>18</td>\n",
       "      <td>U</td>\n",
       "      <td>GT3</td>\n",
       "      <td>A</td>\n",
       "      <td>4</td>\n",
       "      <td>4</td>\n",
       "      <td>at_home</td>\n",
       "      <td>teacher</td>\n",
       "      <td>...</td>\n",
       "      <td>no</td>\n",
       "      <td>no</td>\n",
       "      <td>4</td>\n",
       "      <td>3</td>\n",
       "      <td>4</td>\n",
       "      <td>1</td>\n",
       "      <td>1</td>\n",
       "      <td>3</td>\n",
       "      <td>6</td>\n",
       "      <td>no</td>\n",
       "    </tr>\n",
       "    <tr>\n",
       "      <th>1</th>\n",
       "      <td>GP</td>\n",
       "      <td>F</td>\n",
       "      <td>17</td>\n",
       "      <td>U</td>\n",
       "      <td>GT3</td>\n",
       "      <td>T</td>\n",
       "      <td>1</td>\n",
       "      <td>1</td>\n",
       "      <td>at_home</td>\n",
       "      <td>other</td>\n",
       "      <td>...</td>\n",
       "      <td>yes</td>\n",
       "      <td>no</td>\n",
       "      <td>5</td>\n",
       "      <td>3</td>\n",
       "      <td>3</td>\n",
       "      <td>1</td>\n",
       "      <td>1</td>\n",
       "      <td>3</td>\n",
       "      <td>4</td>\n",
       "      <td>no</td>\n",
       "    </tr>\n",
       "    <tr>\n",
       "      <th>2</th>\n",
       "      <td>GP</td>\n",
       "      <td>F</td>\n",
       "      <td>15</td>\n",
       "      <td>U</td>\n",
       "      <td>LE3</td>\n",
       "      <td>T</td>\n",
       "      <td>1</td>\n",
       "      <td>1</td>\n",
       "      <td>at_home</td>\n",
       "      <td>other</td>\n",
       "      <td>...</td>\n",
       "      <td>yes</td>\n",
       "      <td>no</td>\n",
       "      <td>4</td>\n",
       "      <td>3</td>\n",
       "      <td>2</td>\n",
       "      <td>2</td>\n",
       "      <td>3</td>\n",
       "      <td>3</td>\n",
       "      <td>10</td>\n",
       "      <td>yes</td>\n",
       "    </tr>\n",
       "    <tr>\n",
       "      <th>3</th>\n",
       "      <td>GP</td>\n",
       "      <td>F</td>\n",
       "      <td>15</td>\n",
       "      <td>U</td>\n",
       "      <td>GT3</td>\n",
       "      <td>T</td>\n",
       "      <td>4</td>\n",
       "      <td>2</td>\n",
       "      <td>health</td>\n",
       "      <td>services</td>\n",
       "      <td>...</td>\n",
       "      <td>yes</td>\n",
       "      <td>yes</td>\n",
       "      <td>3</td>\n",
       "      <td>2</td>\n",
       "      <td>2</td>\n",
       "      <td>1</td>\n",
       "      <td>1</td>\n",
       "      <td>5</td>\n",
       "      <td>2</td>\n",
       "      <td>yes</td>\n",
       "    </tr>\n",
       "    <tr>\n",
       "      <th>4</th>\n",
       "      <td>GP</td>\n",
       "      <td>F</td>\n",
       "      <td>16</td>\n",
       "      <td>U</td>\n",
       "      <td>GT3</td>\n",
       "      <td>T</td>\n",
       "      <td>3</td>\n",
       "      <td>3</td>\n",
       "      <td>other</td>\n",
       "      <td>other</td>\n",
       "      <td>...</td>\n",
       "      <td>no</td>\n",
       "      <td>no</td>\n",
       "      <td>4</td>\n",
       "      <td>3</td>\n",
       "      <td>2</td>\n",
       "      <td>1</td>\n",
       "      <td>2</td>\n",
       "      <td>5</td>\n",
       "      <td>4</td>\n",
       "      <td>yes</td>\n",
       "    </tr>\n",
       "  </tbody>\n",
       "</table>\n",
       "<p>5 rows × 31 columns</p>\n",
       "</div>"
      ],
      "text/plain": [
       "  school sex  age address famsize Pstatus  Medu  Fedu     Mjob      Fjob  ...  \\\n",
       "0     GP   F   18       U     GT3       A     4     4  at_home   teacher  ...   \n",
       "1     GP   F   17       U     GT3       T     1     1  at_home     other  ...   \n",
       "2     GP   F   15       U     LE3       T     1     1  at_home     other  ...   \n",
       "3     GP   F   15       U     GT3       T     4     2   health  services  ...   \n",
       "4     GP   F   16       U     GT3       T     3     3    other     other  ...   \n",
       "\n",
       "  internet romantic  famrel  freetime  goout Dalc Walc health absences passed  \n",
       "0       no       no       4         3      4    1    1      3        6     no  \n",
       "1      yes       no       5         3      3    1    1      3        4     no  \n",
       "2      yes       no       4         3      2    2    3      3       10    yes  \n",
       "3      yes      yes       3         2      2    1    1      5        2    yes  \n",
       "4       no       no       4         3      2    1    2      5        4    yes  \n",
       "\n",
       "[5 rows x 31 columns]"
      ]
     },
     "execution_count": 107,
     "metadata": {},
     "output_type": "execute_result"
    }
   ],
   "source": [
    "df.head()"
   ]
  },
  {
   "cell_type": "code",
   "execution_count": 108,
   "id": "376e0ec0",
   "metadata": {},
   "outputs": [
    {
     "name": "stdout",
     "output_type": "stream",
     "text": [
      "<class 'pandas.core.frame.DataFrame'>\n",
      "RangeIndex: 395 entries, 0 to 394\n",
      "Data columns (total 31 columns):\n",
      " #   Column      Non-Null Count  Dtype \n",
      "---  ------      --------------  ----- \n",
      " 0   school      395 non-null    object\n",
      " 1   sex         395 non-null    object\n",
      " 2   age         395 non-null    int64 \n",
      " 3   address     395 non-null    object\n",
      " 4   famsize     395 non-null    object\n",
      " 5   Pstatus     395 non-null    object\n",
      " 6   Medu        395 non-null    int64 \n",
      " 7   Fedu        395 non-null    int64 \n",
      " 8   Mjob        395 non-null    object\n",
      " 9   Fjob        395 non-null    object\n",
      " 10  reason      395 non-null    object\n",
      " 11  guardian    395 non-null    object\n",
      " 12  traveltime  395 non-null    int64 \n",
      " 13  studytime   395 non-null    int64 \n",
      " 14  failures    395 non-null    int64 \n",
      " 15  schoolsup   395 non-null    object\n",
      " 16  famsup      395 non-null    object\n",
      " 17  paid        395 non-null    object\n",
      " 18  activities  395 non-null    object\n",
      " 19  nursery     395 non-null    object\n",
      " 20  higher      395 non-null    object\n",
      " 21  internet    395 non-null    object\n",
      " 22  romantic    395 non-null    object\n",
      " 23  famrel      395 non-null    int64 \n",
      " 24  freetime    395 non-null    int64 \n",
      " 25  goout       395 non-null    int64 \n",
      " 26  Dalc        395 non-null    int64 \n",
      " 27  Walc        395 non-null    int64 \n",
      " 28  health      395 non-null    int64 \n",
      " 29  absences    395 non-null    int64 \n",
      " 30  passed      395 non-null    object\n",
      "dtypes: int64(13), object(18)\n",
      "memory usage: 95.8+ KB\n"
     ]
    }
   ],
   "source": [
    "#Checking for null values \n",
    "df.info()"
   ]
  },
  {
   "cell_type": "code",
   "execution_count": 109,
   "id": "8895ede9",
   "metadata": {},
   "outputs": [
    {
     "data": {
      "text/plain": [
       "yes    0.670886\n",
       "no     0.329114\n",
       "Name: passed, dtype: float64"
      ]
     },
     "execution_count": 109,
     "metadata": {},
     "output_type": "execute_result"
    }
   ],
   "source": [
    "#Checking if this is a balanced dataset \n",
    "df['passed'].value_counts(normalize=True)"
   ]
  },
  {
   "cell_type": "code",
   "execution_count": 110,
   "id": "418813fd",
   "metadata": {},
   "outputs": [
    {
     "data": {
      "text/plain": [
       "0     no\n",
       "1     no\n",
       "2    yes\n",
       "3    yes\n",
       "4    yes\n",
       "Name: passed, dtype: object"
      ]
     },
     "execution_count": 110,
     "metadata": {},
     "output_type": "execute_result"
    }
   ],
   "source": [
    "#Identifying the Identify feature and target columns\n",
    "X= df.drop(['passed'],axis=1)\n",
    "y =df['passed']\n",
    "y.head()"
   ]
  },
  {
   "cell_type": "markdown",
   "id": "b5abced1",
   "metadata": {},
   "source": [
    "# Preprocessing"
   ]
  },
  {
   "cell_type": "code",
   "execution_count": 111,
   "id": "7ae187ae",
   "metadata": {},
   "outputs": [],
   "source": [
    "#Target\n",
    "#We see the target variable is binary with yes or no. We can apply label encoding which is a requirement \n",
    "#for Extreme gradient boosting\n",
    "\n",
    "#from sklearn.preprocessing import LabelEncoder\n",
    "\n",
    "#label_en = LabelEncoder()\n",
    "#y= label_en.fit_transform(y)"
   ]
  },
  {
   "cell_type": "code",
   "execution_count": 112,
   "id": "e3635643",
   "metadata": {},
   "outputs": [],
   "source": [
    "#Preprocessing the features \n",
    "\n",
    "#There are a lot of features that are object data type which are binary like 'Yes' or 'No'. They can be \n",
    "#label encoded to 0 and 1. The reason I am chosing label encoding here for a categorical variable with only two \n",
    "#unique values is because it may lead to multicollinearty and eventualy we will have to do dummy variable dropping. \n",
    "#Therefore label encoding is chosen for features with binary values. This will also hopefully reduce the number\n",
    "#of features and reduce computational cost.\n",
    "\n",
    "label_encoders = {}\n",
    "binary_features= ['school','sex','address','famsize','Pstatus',\n",
    "                  'schoolsup','famsup','paid','activities','nursery','higher','internet','romantic']   \n",
    "\n",
    "for i in binary_features:\n",
    "    label_encoders[i] = LabelEncoder()\n",
    "    X[i] = label_encoders[i].fit_transform(X[i])  \n"
   ]
  },
  {
   "cell_type": "code",
   "execution_count": 113,
   "id": "372e5070",
   "metadata": {},
   "outputs": [
    {
     "data": {
      "text/html": [
       "<div>\n",
       "<style scoped>\n",
       "    .dataframe tbody tr th:only-of-type {\n",
       "        vertical-align: middle;\n",
       "    }\n",
       "\n",
       "    .dataframe tbody tr th {\n",
       "        vertical-align: top;\n",
       "    }\n",
       "\n",
       "    .dataframe thead th {\n",
       "        text-align: right;\n",
       "    }\n",
       "</style>\n",
       "<table border=\"1\" class=\"dataframe\">\n",
       "  <thead>\n",
       "    <tr style=\"text-align: right;\">\n",
       "      <th></th>\n",
       "      <th>school</th>\n",
       "      <th>sex</th>\n",
       "      <th>age</th>\n",
       "      <th>address</th>\n",
       "      <th>famsize</th>\n",
       "      <th>Pstatus</th>\n",
       "      <th>Medu</th>\n",
       "      <th>Fedu</th>\n",
       "      <th>Mjob</th>\n",
       "      <th>Fjob</th>\n",
       "      <th>...</th>\n",
       "      <th>higher</th>\n",
       "      <th>internet</th>\n",
       "      <th>romantic</th>\n",
       "      <th>famrel</th>\n",
       "      <th>freetime</th>\n",
       "      <th>goout</th>\n",
       "      <th>Dalc</th>\n",
       "      <th>Walc</th>\n",
       "      <th>health</th>\n",
       "      <th>absences</th>\n",
       "    </tr>\n",
       "  </thead>\n",
       "  <tbody>\n",
       "    <tr>\n",
       "      <th>0</th>\n",
       "      <td>0</td>\n",
       "      <td>0</td>\n",
       "      <td>18</td>\n",
       "      <td>1</td>\n",
       "      <td>0</td>\n",
       "      <td>0</td>\n",
       "      <td>4</td>\n",
       "      <td>4</td>\n",
       "      <td>at_home</td>\n",
       "      <td>teacher</td>\n",
       "      <td>...</td>\n",
       "      <td>1</td>\n",
       "      <td>0</td>\n",
       "      <td>0</td>\n",
       "      <td>4</td>\n",
       "      <td>3</td>\n",
       "      <td>4</td>\n",
       "      <td>1</td>\n",
       "      <td>1</td>\n",
       "      <td>3</td>\n",
       "      <td>6</td>\n",
       "    </tr>\n",
       "    <tr>\n",
       "      <th>1</th>\n",
       "      <td>0</td>\n",
       "      <td>0</td>\n",
       "      <td>17</td>\n",
       "      <td>1</td>\n",
       "      <td>0</td>\n",
       "      <td>1</td>\n",
       "      <td>1</td>\n",
       "      <td>1</td>\n",
       "      <td>at_home</td>\n",
       "      <td>other</td>\n",
       "      <td>...</td>\n",
       "      <td>1</td>\n",
       "      <td>1</td>\n",
       "      <td>0</td>\n",
       "      <td>5</td>\n",
       "      <td>3</td>\n",
       "      <td>3</td>\n",
       "      <td>1</td>\n",
       "      <td>1</td>\n",
       "      <td>3</td>\n",
       "      <td>4</td>\n",
       "    </tr>\n",
       "    <tr>\n",
       "      <th>2</th>\n",
       "      <td>0</td>\n",
       "      <td>0</td>\n",
       "      <td>15</td>\n",
       "      <td>1</td>\n",
       "      <td>1</td>\n",
       "      <td>1</td>\n",
       "      <td>1</td>\n",
       "      <td>1</td>\n",
       "      <td>at_home</td>\n",
       "      <td>other</td>\n",
       "      <td>...</td>\n",
       "      <td>1</td>\n",
       "      <td>1</td>\n",
       "      <td>0</td>\n",
       "      <td>4</td>\n",
       "      <td>3</td>\n",
       "      <td>2</td>\n",
       "      <td>2</td>\n",
       "      <td>3</td>\n",
       "      <td>3</td>\n",
       "      <td>10</td>\n",
       "    </tr>\n",
       "    <tr>\n",
       "      <th>3</th>\n",
       "      <td>0</td>\n",
       "      <td>0</td>\n",
       "      <td>15</td>\n",
       "      <td>1</td>\n",
       "      <td>0</td>\n",
       "      <td>1</td>\n",
       "      <td>4</td>\n",
       "      <td>2</td>\n",
       "      <td>health</td>\n",
       "      <td>services</td>\n",
       "      <td>...</td>\n",
       "      <td>1</td>\n",
       "      <td>1</td>\n",
       "      <td>1</td>\n",
       "      <td>3</td>\n",
       "      <td>2</td>\n",
       "      <td>2</td>\n",
       "      <td>1</td>\n",
       "      <td>1</td>\n",
       "      <td>5</td>\n",
       "      <td>2</td>\n",
       "    </tr>\n",
       "    <tr>\n",
       "      <th>4</th>\n",
       "      <td>0</td>\n",
       "      <td>0</td>\n",
       "      <td>16</td>\n",
       "      <td>1</td>\n",
       "      <td>0</td>\n",
       "      <td>1</td>\n",
       "      <td>3</td>\n",
       "      <td>3</td>\n",
       "      <td>other</td>\n",
       "      <td>other</td>\n",
       "      <td>...</td>\n",
       "      <td>1</td>\n",
       "      <td>0</td>\n",
       "      <td>0</td>\n",
       "      <td>4</td>\n",
       "      <td>3</td>\n",
       "      <td>2</td>\n",
       "      <td>1</td>\n",
       "      <td>2</td>\n",
       "      <td>5</td>\n",
       "      <td>4</td>\n",
       "    </tr>\n",
       "  </tbody>\n",
       "</table>\n",
       "<p>5 rows × 30 columns</p>\n",
       "</div>"
      ],
      "text/plain": [
       "   school  sex  age  address  famsize  Pstatus  Medu  Fedu     Mjob      Fjob  \\\n",
       "0       0    0   18        1        0        0     4     4  at_home   teacher   \n",
       "1       0    0   17        1        0        1     1     1  at_home     other   \n",
       "2       0    0   15        1        1        1     1     1  at_home     other   \n",
       "3       0    0   15        1        0        1     4     2   health  services   \n",
       "4       0    0   16        1        0        1     3     3    other     other   \n",
       "\n",
       "   ... higher internet  romantic  famrel  freetime  goout  Dalc  Walc  health  \\\n",
       "0  ...      1        0         0       4         3      4     1     1       3   \n",
       "1  ...      1        1         0       5         3      3     1     1       3   \n",
       "2  ...      1        1         0       4         3      2     2     3       3   \n",
       "3  ...      1        1         1       3         2      2     1     1       5   \n",
       "4  ...      1        0         0       4         3      2     1     2       5   \n",
       "\n",
       "   absences  \n",
       "0         6  \n",
       "1         4  \n",
       "2        10  \n",
       "3         2  \n",
       "4         4  \n",
       "\n",
       "[5 rows x 30 columns]"
      ]
     },
     "execution_count": 113,
     "metadata": {},
     "output_type": "execute_result"
    }
   ],
   "source": [
    "X.head()"
   ]
  },
  {
   "cell_type": "code",
   "execution_count": 114,
   "id": "23142b97",
   "metadata": {},
   "outputs": [],
   "source": [
    "#For features Mjob,Fjob,reason,guardian which are nominal categorical variables;\n",
    "#Since they are not ordinal, applying one hot encoding.\n",
    "X = pd.get_dummies(X)"
   ]
  },
  {
   "cell_type": "code",
   "execution_count": 115,
   "id": "d406b543",
   "metadata": {},
   "outputs": [
    {
     "data": {
      "text/html": [
       "<div>\n",
       "<style scoped>\n",
       "    .dataframe tbody tr th:only-of-type {\n",
       "        vertical-align: middle;\n",
       "    }\n",
       "\n",
       "    .dataframe tbody tr th {\n",
       "        vertical-align: top;\n",
       "    }\n",
       "\n",
       "    .dataframe thead th {\n",
       "        text-align: right;\n",
       "    }\n",
       "</style>\n",
       "<table border=\"1\" class=\"dataframe\">\n",
       "  <thead>\n",
       "    <tr style=\"text-align: right;\">\n",
       "      <th></th>\n",
       "      <th>school</th>\n",
       "      <th>sex</th>\n",
       "      <th>age</th>\n",
       "      <th>address</th>\n",
       "      <th>famsize</th>\n",
       "      <th>Pstatus</th>\n",
       "      <th>Medu</th>\n",
       "      <th>Fedu</th>\n",
       "      <th>traveltime</th>\n",
       "      <th>studytime</th>\n",
       "      <th>...</th>\n",
       "      <th>Fjob_other</th>\n",
       "      <th>Fjob_services</th>\n",
       "      <th>Fjob_teacher</th>\n",
       "      <th>reason_course</th>\n",
       "      <th>reason_home</th>\n",
       "      <th>reason_other</th>\n",
       "      <th>reason_reputation</th>\n",
       "      <th>guardian_father</th>\n",
       "      <th>guardian_mother</th>\n",
       "      <th>guardian_other</th>\n",
       "    </tr>\n",
       "  </thead>\n",
       "  <tbody>\n",
       "    <tr>\n",
       "      <th>0</th>\n",
       "      <td>0</td>\n",
       "      <td>0</td>\n",
       "      <td>18</td>\n",
       "      <td>1</td>\n",
       "      <td>0</td>\n",
       "      <td>0</td>\n",
       "      <td>4</td>\n",
       "      <td>4</td>\n",
       "      <td>2</td>\n",
       "      <td>2</td>\n",
       "      <td>...</td>\n",
       "      <td>0</td>\n",
       "      <td>0</td>\n",
       "      <td>1</td>\n",
       "      <td>1</td>\n",
       "      <td>0</td>\n",
       "      <td>0</td>\n",
       "      <td>0</td>\n",
       "      <td>0</td>\n",
       "      <td>1</td>\n",
       "      <td>0</td>\n",
       "    </tr>\n",
       "    <tr>\n",
       "      <th>1</th>\n",
       "      <td>0</td>\n",
       "      <td>0</td>\n",
       "      <td>17</td>\n",
       "      <td>1</td>\n",
       "      <td>0</td>\n",
       "      <td>1</td>\n",
       "      <td>1</td>\n",
       "      <td>1</td>\n",
       "      <td>1</td>\n",
       "      <td>2</td>\n",
       "      <td>...</td>\n",
       "      <td>1</td>\n",
       "      <td>0</td>\n",
       "      <td>0</td>\n",
       "      <td>1</td>\n",
       "      <td>0</td>\n",
       "      <td>0</td>\n",
       "      <td>0</td>\n",
       "      <td>1</td>\n",
       "      <td>0</td>\n",
       "      <td>0</td>\n",
       "    </tr>\n",
       "    <tr>\n",
       "      <th>2</th>\n",
       "      <td>0</td>\n",
       "      <td>0</td>\n",
       "      <td>15</td>\n",
       "      <td>1</td>\n",
       "      <td>1</td>\n",
       "      <td>1</td>\n",
       "      <td>1</td>\n",
       "      <td>1</td>\n",
       "      <td>1</td>\n",
       "      <td>2</td>\n",
       "      <td>...</td>\n",
       "      <td>1</td>\n",
       "      <td>0</td>\n",
       "      <td>0</td>\n",
       "      <td>0</td>\n",
       "      <td>0</td>\n",
       "      <td>1</td>\n",
       "      <td>0</td>\n",
       "      <td>0</td>\n",
       "      <td>1</td>\n",
       "      <td>0</td>\n",
       "    </tr>\n",
       "    <tr>\n",
       "      <th>3</th>\n",
       "      <td>0</td>\n",
       "      <td>0</td>\n",
       "      <td>15</td>\n",
       "      <td>1</td>\n",
       "      <td>0</td>\n",
       "      <td>1</td>\n",
       "      <td>4</td>\n",
       "      <td>2</td>\n",
       "      <td>1</td>\n",
       "      <td>3</td>\n",
       "      <td>...</td>\n",
       "      <td>0</td>\n",
       "      <td>1</td>\n",
       "      <td>0</td>\n",
       "      <td>0</td>\n",
       "      <td>1</td>\n",
       "      <td>0</td>\n",
       "      <td>0</td>\n",
       "      <td>0</td>\n",
       "      <td>1</td>\n",
       "      <td>0</td>\n",
       "    </tr>\n",
       "    <tr>\n",
       "      <th>4</th>\n",
       "      <td>0</td>\n",
       "      <td>0</td>\n",
       "      <td>16</td>\n",
       "      <td>1</td>\n",
       "      <td>0</td>\n",
       "      <td>1</td>\n",
       "      <td>3</td>\n",
       "      <td>3</td>\n",
       "      <td>1</td>\n",
       "      <td>2</td>\n",
       "      <td>...</td>\n",
       "      <td>1</td>\n",
       "      <td>0</td>\n",
       "      <td>0</td>\n",
       "      <td>0</td>\n",
       "      <td>1</td>\n",
       "      <td>0</td>\n",
       "      <td>0</td>\n",
       "      <td>1</td>\n",
       "      <td>0</td>\n",
       "      <td>0</td>\n",
       "    </tr>\n",
       "  </tbody>\n",
       "</table>\n",
       "<p>5 rows × 43 columns</p>\n",
       "</div>"
      ],
      "text/plain": [
       "   school  sex  age  address  famsize  Pstatus  Medu  Fedu  traveltime  \\\n",
       "0       0    0   18        1        0        0     4     4           2   \n",
       "1       0    0   17        1        0        1     1     1           1   \n",
       "2       0    0   15        1        1        1     1     1           1   \n",
       "3       0    0   15        1        0        1     4     2           1   \n",
       "4       0    0   16        1        0        1     3     3           1   \n",
       "\n",
       "   studytime  ...  Fjob_other  Fjob_services  Fjob_teacher  reason_course  \\\n",
       "0          2  ...           0              0             1              1   \n",
       "1          2  ...           1              0             0              1   \n",
       "2          2  ...           1              0             0              0   \n",
       "3          3  ...           0              1             0              0   \n",
       "4          2  ...           1              0             0              0   \n",
       "\n",
       "   reason_home  reason_other  reason_reputation  guardian_father  \\\n",
       "0            0             0                  0                0   \n",
       "1            0             0                  0                1   \n",
       "2            0             1                  0                0   \n",
       "3            1             0                  0                0   \n",
       "4            1             0                  0                1   \n",
       "\n",
       "   guardian_mother  guardian_other  \n",
       "0                1               0  \n",
       "1                0               0  \n",
       "2                1               0  \n",
       "3                1               0  \n",
       "4                0               0  \n",
       "\n",
       "[5 rows x 43 columns]"
      ]
     },
     "execution_count": 115,
     "metadata": {},
     "output_type": "execute_result"
    }
   ],
   "source": [
    "X.head()"
   ]
  },
  {
   "cell_type": "code",
   "execution_count": 116,
   "id": "14d3ab03",
   "metadata": {},
   "outputs": [
    {
     "data": {
      "text/html": [
       "<div>\n",
       "<style scoped>\n",
       "    .dataframe tbody tr th:only-of-type {\n",
       "        vertical-align: middle;\n",
       "    }\n",
       "\n",
       "    .dataframe tbody tr th {\n",
       "        vertical-align: top;\n",
       "    }\n",
       "\n",
       "    .dataframe thead th {\n",
       "        text-align: right;\n",
       "    }\n",
       "</style>\n",
       "<table border=\"1\" class=\"dataframe\">\n",
       "  <thead>\n",
       "    <tr style=\"text-align: right;\">\n",
       "      <th></th>\n",
       "      <th>school</th>\n",
       "      <th>sex</th>\n",
       "      <th>age</th>\n",
       "      <th>address</th>\n",
       "      <th>famsize</th>\n",
       "      <th>Pstatus</th>\n",
       "      <th>Medu</th>\n",
       "      <th>Fedu</th>\n",
       "      <th>traveltime</th>\n",
       "      <th>studytime</th>\n",
       "      <th>...</th>\n",
       "      <th>Fjob_other</th>\n",
       "      <th>Fjob_services</th>\n",
       "      <th>Fjob_teacher</th>\n",
       "      <th>reason_course</th>\n",
       "      <th>reason_home</th>\n",
       "      <th>reason_other</th>\n",
       "      <th>reason_reputation</th>\n",
       "      <th>guardian_father</th>\n",
       "      <th>guardian_mother</th>\n",
       "      <th>guardian_other</th>\n",
       "    </tr>\n",
       "  </thead>\n",
       "  <tbody>\n",
       "    <tr>\n",
       "      <th>count</th>\n",
       "      <td>395.000000</td>\n",
       "      <td>395.000000</td>\n",
       "      <td>395.000000</td>\n",
       "      <td>395.000000</td>\n",
       "      <td>395.000000</td>\n",
       "      <td>395.000000</td>\n",
       "      <td>395.000000</td>\n",
       "      <td>395.000000</td>\n",
       "      <td>395.000000</td>\n",
       "      <td>395.000000</td>\n",
       "      <td>...</td>\n",
       "      <td>395.000000</td>\n",
       "      <td>395.000000</td>\n",
       "      <td>395.000000</td>\n",
       "      <td>395.000000</td>\n",
       "      <td>395.000000</td>\n",
       "      <td>395.000000</td>\n",
       "      <td>395.000000</td>\n",
       "      <td>395.000000</td>\n",
       "      <td>395.000000</td>\n",
       "      <td>395.000000</td>\n",
       "    </tr>\n",
       "    <tr>\n",
       "      <th>mean</th>\n",
       "      <td>0.116456</td>\n",
       "      <td>0.473418</td>\n",
       "      <td>16.696203</td>\n",
       "      <td>0.777215</td>\n",
       "      <td>0.288608</td>\n",
       "      <td>0.896203</td>\n",
       "      <td>2.749367</td>\n",
       "      <td>2.521519</td>\n",
       "      <td>1.448101</td>\n",
       "      <td>2.035443</td>\n",
       "      <td>...</td>\n",
       "      <td>0.549367</td>\n",
       "      <td>0.281013</td>\n",
       "      <td>0.073418</td>\n",
       "      <td>0.367089</td>\n",
       "      <td>0.275949</td>\n",
       "      <td>0.091139</td>\n",
       "      <td>0.265823</td>\n",
       "      <td>0.227848</td>\n",
       "      <td>0.691139</td>\n",
       "      <td>0.081013</td>\n",
       "    </tr>\n",
       "    <tr>\n",
       "      <th>std</th>\n",
       "      <td>0.321177</td>\n",
       "      <td>0.499926</td>\n",
       "      <td>1.276043</td>\n",
       "      <td>0.416643</td>\n",
       "      <td>0.453690</td>\n",
       "      <td>0.305384</td>\n",
       "      <td>1.094735</td>\n",
       "      <td>1.088201</td>\n",
       "      <td>0.697505</td>\n",
       "      <td>0.839240</td>\n",
       "      <td>...</td>\n",
       "      <td>0.498188</td>\n",
       "      <td>0.450064</td>\n",
       "      <td>0.261152</td>\n",
       "      <td>0.482622</td>\n",
       "      <td>0.447558</td>\n",
       "      <td>0.288172</td>\n",
       "      <td>0.442331</td>\n",
       "      <td>0.419976</td>\n",
       "      <td>0.462610</td>\n",
       "      <td>0.273201</td>\n",
       "    </tr>\n",
       "    <tr>\n",
       "      <th>min</th>\n",
       "      <td>0.000000</td>\n",
       "      <td>0.000000</td>\n",
       "      <td>15.000000</td>\n",
       "      <td>0.000000</td>\n",
       "      <td>0.000000</td>\n",
       "      <td>0.000000</td>\n",
       "      <td>0.000000</td>\n",
       "      <td>0.000000</td>\n",
       "      <td>1.000000</td>\n",
       "      <td>1.000000</td>\n",
       "      <td>...</td>\n",
       "      <td>0.000000</td>\n",
       "      <td>0.000000</td>\n",
       "      <td>0.000000</td>\n",
       "      <td>0.000000</td>\n",
       "      <td>0.000000</td>\n",
       "      <td>0.000000</td>\n",
       "      <td>0.000000</td>\n",
       "      <td>0.000000</td>\n",
       "      <td>0.000000</td>\n",
       "      <td>0.000000</td>\n",
       "    </tr>\n",
       "    <tr>\n",
       "      <th>25%</th>\n",
       "      <td>0.000000</td>\n",
       "      <td>0.000000</td>\n",
       "      <td>16.000000</td>\n",
       "      <td>1.000000</td>\n",
       "      <td>0.000000</td>\n",
       "      <td>1.000000</td>\n",
       "      <td>2.000000</td>\n",
       "      <td>2.000000</td>\n",
       "      <td>1.000000</td>\n",
       "      <td>1.000000</td>\n",
       "      <td>...</td>\n",
       "      <td>0.000000</td>\n",
       "      <td>0.000000</td>\n",
       "      <td>0.000000</td>\n",
       "      <td>0.000000</td>\n",
       "      <td>0.000000</td>\n",
       "      <td>0.000000</td>\n",
       "      <td>0.000000</td>\n",
       "      <td>0.000000</td>\n",
       "      <td>0.000000</td>\n",
       "      <td>0.000000</td>\n",
       "    </tr>\n",
       "    <tr>\n",
       "      <th>50%</th>\n",
       "      <td>0.000000</td>\n",
       "      <td>0.000000</td>\n",
       "      <td>17.000000</td>\n",
       "      <td>1.000000</td>\n",
       "      <td>0.000000</td>\n",
       "      <td>1.000000</td>\n",
       "      <td>3.000000</td>\n",
       "      <td>2.000000</td>\n",
       "      <td>1.000000</td>\n",
       "      <td>2.000000</td>\n",
       "      <td>...</td>\n",
       "      <td>1.000000</td>\n",
       "      <td>0.000000</td>\n",
       "      <td>0.000000</td>\n",
       "      <td>0.000000</td>\n",
       "      <td>0.000000</td>\n",
       "      <td>0.000000</td>\n",
       "      <td>0.000000</td>\n",
       "      <td>0.000000</td>\n",
       "      <td>1.000000</td>\n",
       "      <td>0.000000</td>\n",
       "    </tr>\n",
       "    <tr>\n",
       "      <th>75%</th>\n",
       "      <td>0.000000</td>\n",
       "      <td>1.000000</td>\n",
       "      <td>18.000000</td>\n",
       "      <td>1.000000</td>\n",
       "      <td>1.000000</td>\n",
       "      <td>1.000000</td>\n",
       "      <td>4.000000</td>\n",
       "      <td>3.000000</td>\n",
       "      <td>2.000000</td>\n",
       "      <td>2.000000</td>\n",
       "      <td>...</td>\n",
       "      <td>1.000000</td>\n",
       "      <td>1.000000</td>\n",
       "      <td>0.000000</td>\n",
       "      <td>1.000000</td>\n",
       "      <td>1.000000</td>\n",
       "      <td>0.000000</td>\n",
       "      <td>1.000000</td>\n",
       "      <td>0.000000</td>\n",
       "      <td>1.000000</td>\n",
       "      <td>0.000000</td>\n",
       "    </tr>\n",
       "    <tr>\n",
       "      <th>max</th>\n",
       "      <td>1.000000</td>\n",
       "      <td>1.000000</td>\n",
       "      <td>22.000000</td>\n",
       "      <td>1.000000</td>\n",
       "      <td>1.000000</td>\n",
       "      <td>1.000000</td>\n",
       "      <td>4.000000</td>\n",
       "      <td>4.000000</td>\n",
       "      <td>4.000000</td>\n",
       "      <td>4.000000</td>\n",
       "      <td>...</td>\n",
       "      <td>1.000000</td>\n",
       "      <td>1.000000</td>\n",
       "      <td>1.000000</td>\n",
       "      <td>1.000000</td>\n",
       "      <td>1.000000</td>\n",
       "      <td>1.000000</td>\n",
       "      <td>1.000000</td>\n",
       "      <td>1.000000</td>\n",
       "      <td>1.000000</td>\n",
       "      <td>1.000000</td>\n",
       "    </tr>\n",
       "  </tbody>\n",
       "</table>\n",
       "<p>8 rows × 43 columns</p>\n",
       "</div>"
      ],
      "text/plain": [
       "           school         sex         age     address     famsize     Pstatus  \\\n",
       "count  395.000000  395.000000  395.000000  395.000000  395.000000  395.000000   \n",
       "mean     0.116456    0.473418   16.696203    0.777215    0.288608    0.896203   \n",
       "std      0.321177    0.499926    1.276043    0.416643    0.453690    0.305384   \n",
       "min      0.000000    0.000000   15.000000    0.000000    0.000000    0.000000   \n",
       "25%      0.000000    0.000000   16.000000    1.000000    0.000000    1.000000   \n",
       "50%      0.000000    0.000000   17.000000    1.000000    0.000000    1.000000   \n",
       "75%      0.000000    1.000000   18.000000    1.000000    1.000000    1.000000   \n",
       "max      1.000000    1.000000   22.000000    1.000000    1.000000    1.000000   \n",
       "\n",
       "             Medu        Fedu  traveltime   studytime  ...  Fjob_other  \\\n",
       "count  395.000000  395.000000  395.000000  395.000000  ...  395.000000   \n",
       "mean     2.749367    2.521519    1.448101    2.035443  ...    0.549367   \n",
       "std      1.094735    1.088201    0.697505    0.839240  ...    0.498188   \n",
       "min      0.000000    0.000000    1.000000    1.000000  ...    0.000000   \n",
       "25%      2.000000    2.000000    1.000000    1.000000  ...    0.000000   \n",
       "50%      3.000000    2.000000    1.000000    2.000000  ...    1.000000   \n",
       "75%      4.000000    3.000000    2.000000    2.000000  ...    1.000000   \n",
       "max      4.000000    4.000000    4.000000    4.000000  ...    1.000000   \n",
       "\n",
       "       Fjob_services  Fjob_teacher  reason_course  reason_home  reason_other  \\\n",
       "count     395.000000    395.000000     395.000000   395.000000    395.000000   \n",
       "mean        0.281013      0.073418       0.367089     0.275949      0.091139   \n",
       "std         0.450064      0.261152       0.482622     0.447558      0.288172   \n",
       "min         0.000000      0.000000       0.000000     0.000000      0.000000   \n",
       "25%         0.000000      0.000000       0.000000     0.000000      0.000000   \n",
       "50%         0.000000      0.000000       0.000000     0.000000      0.000000   \n",
       "75%         1.000000      0.000000       1.000000     1.000000      0.000000   \n",
       "max         1.000000      1.000000       1.000000     1.000000      1.000000   \n",
       "\n",
       "       reason_reputation  guardian_father  guardian_mother  guardian_other  \n",
       "count         395.000000       395.000000       395.000000      395.000000  \n",
       "mean            0.265823         0.227848         0.691139        0.081013  \n",
       "std             0.442331         0.419976         0.462610        0.273201  \n",
       "min             0.000000         0.000000         0.000000        0.000000  \n",
       "25%             0.000000         0.000000         0.000000        0.000000  \n",
       "50%             0.000000         0.000000         1.000000        0.000000  \n",
       "75%             1.000000         0.000000         1.000000        0.000000  \n",
       "max             1.000000         1.000000         1.000000        1.000000  \n",
       "\n",
       "[8 rows x 43 columns]"
      ]
     },
     "execution_count": 116,
     "metadata": {},
     "output_type": "execute_result"
    }
   ],
   "source": [
    "X.describe()"
   ]
  },
  {
   "cell_type": "code",
   "execution_count": 117,
   "id": "9a14989f",
   "metadata": {},
   "outputs": [],
   "source": [
    "#Performing Min Max scaling \n",
    "from sklearn import preprocessing  \n",
    "min_max = preprocessing.MinMaxScaler(feature_range =(0,1))\n",
    "X = min_max.fit_transform(X)"
   ]
  },
  {
   "cell_type": "code",
   "execution_count": 118,
   "id": "a196f3e3",
   "metadata": {},
   "outputs": [],
   "source": [
    "# Splitting the data\n",
    "#Splitting the dataset\n",
    "from sklearn.model_selection import train_test_split\n",
    "X_train,X_test,y_train,y_test = train_test_split(X,y,random_state=42,test_size=0.2)"
   ]
  },
  {
   "cell_type": "code",
   "execution_count": 119,
   "id": "c54217d6",
   "metadata": {},
   "outputs": [
    {
     "data": {
      "text/plain": [
       "(316, 43)"
      ]
     },
     "execution_count": 119,
     "metadata": {},
     "output_type": "execute_result"
    }
   ],
   "source": [
    "# Show the results of the split\n",
    "X_train.shape\n"
   ]
  },
  {
   "cell_type": "markdown",
   "id": "97c4e1d6",
   "metadata": {},
   "source": [
    "##Training the model\n",
    "\n",
    "Using some of the commonly used algorithms, we will be training our model to find the most effective model that uses the least amount of computation costs . We will be implementing the following algorithms to compare:\n",
    "\n",
    "1. Logistic Regression \n",
    "2. Support Vector Machine (SVM)\n",
    "3. K – Nearest Neighbour (KNN)\n",
    "4. Decision Trees\n",
    "5. Random Forest\n",
    "6. GB\n",
    "7. XGB"
   ]
  },
  {
   "cell_type": "code",
   "execution_count": 120,
   "id": "9f12fc83",
   "metadata": {},
   "outputs": [],
   "source": [
    "import time\n",
    "\n",
    "def train_classifier(clf, X_train, y_train):\n",
    "    print (\"Training {}...\".format(clf.__class__.__name__))\n",
    "    start = time.time()\n",
    "    clf.fit(X_train, y_train)\n",
    "    end = time.time()\n",
    "    print (\"Done!\\nTraining time (secs): {:.3f}\".format(end - start))\n",
    "\n"
   ]
  },
  {
   "cell_type": "markdown",
   "id": "b3cf74eb",
   "metadata": {},
   "source": [
    "# Logistic Regression "
   ]
  },
  {
   "cell_type": "code",
   "execution_count": 121,
   "id": "99948517",
   "metadata": {},
   "outputs": [
    {
     "name": "stdout",
     "output_type": "stream",
     "text": [
      "Training LogisticRegression...\n",
      "Done!\n",
      "Training time (secs): 0.034\n",
      "LogisticRegression()\n"
     ]
    }
   ],
   "source": [
    "from sklearn.linear_model import LogisticRegression\n",
    "clf = LogisticRegression()\n",
    "\n",
    "# Fit model to training data\n",
    "train_classifier(clf, X_train, y_train)  \n",
    "print (clf)"
   ]
  },
  {
   "cell_type": "code",
   "execution_count": 130,
   "id": "a79d6c67",
   "metadata": {},
   "outputs": [
    {
     "name": "stdout",
     "output_type": "stream",
     "text": [
      "Predicting labels using LogisticRegression...\n",
      "Done!\n",
      "Prediction time (secs): 0.002\n",
      "F1 score for training set: 0.8394004282655245\n",
      "Predicting labels using LogisticRegression...\n",
      "Done!\n",
      "Prediction time (secs): 0.000\n",
      "F1 score for test set: 0.8034188034188035\n"
     ]
    }
   ],
   "source": [
    "# Predict on training set and compute F1 score\n",
    "from sklearn.metrics import f1_score\n",
    "\n",
    "def predict_labels(clf, features, target):\n",
    "    print (\"Predicting labels using {}...\".format(clf.__class__.__name__))\n",
    "    start = time.time()\n",
    "    y_pred = clf.predict(features)\n",
    "    end = time.time()\n",
    "    print (\"Done!\\nPrediction time (secs): {:.3f}\".format(end - start))\n",
    "    return f1_score(target.values, y_pred, pos_label='yes')\n",
    "\n",
    "train_f1_score = predict_labels(clf, X_train, y_train)\n",
    "print (\"F1 score for training set: {}\".format(train_f1_score))\n",
    "# Predict on test data\n",
    "print ('F1 score for test set: {}'.format(predict_labels(clf, X_test, y_test)))"
   ]
  },
  {
   "cell_type": "markdown",
   "id": "4ba8a380",
   "metadata": {},
   "source": [
    "# Support Vector Machine "
   ]
  },
  {
   "cell_type": "code",
   "execution_count": 151,
   "id": "fe93dc96",
   "metadata": {},
   "outputs": [
    {
     "name": "stdout",
     "output_type": "stream",
     "text": [
      "Training SVC...\n",
      "Done!\n",
      "Training time (secs): 0.013\n",
      "SVC()\n"
     ]
    }
   ],
   "source": [
    "from sklearn.svm import SVC\n",
    "clf2 = SVC()\n",
    "\n",
    "# Fit model to training data\n",
    "train_classifier(clf2, X_train, y_train)  \n",
    "print (clf2)"
   ]
  },
  {
   "cell_type": "code",
   "execution_count": 152,
   "id": "abde83df",
   "metadata": {},
   "outputs": [
    {
     "name": "stdout",
     "output_type": "stream",
     "text": [
      "Predicting labels using SVC...\n",
      "Done!\n",
      "Prediction time (secs): 0.027\n",
      "F1 score for training set: 0.8571428571428571\n",
      "Predicting labels using SVC...\n",
      "Done!\n",
      "Prediction time (secs): 0.005\n",
      "F1 score for test set: 0.7874015748031495\n"
     ]
    }
   ],
   "source": [
    "# Predict on training set and compute F1 score\n",
    "from sklearn.metrics import f1_score\n",
    "\n",
    "train_f1_score = predict_labels(clf2, X_train, y_train)\n",
    "print (\"F1 score for training set: {}\".format(train_f1_score))\n",
    "# Predict on test data\n",
    "print ('F1 score for test set: {}'.format(predict_labels(clf2, X_test, y_test)))"
   ]
  },
  {
   "cell_type": "markdown",
   "id": "f06d5b9f",
   "metadata": {},
   "source": [
    "# KNN neighbour"
   ]
  },
  {
   "cell_type": "code",
   "execution_count": 131,
   "id": "c369d010",
   "metadata": {},
   "outputs": [
    {
     "name": "stdout",
     "output_type": "stream",
     "text": [
      "[0.5569620253164557, 0.5063291139240507, 0.5949367088607594, 0.6329113924050633, 0.6708860759493671, 0.6455696202531646, 0.6835443037974683, 0.6835443037974683, 0.6582278481012658, 0.6582278481012658, 0.6455696202531646, 0.6329113924050633]\n"
     ]
    }
   ],
   "source": [
    "from sklearn.neighbors import KNeighborsClassifier\n",
    "\n",
    "#To find the optimum K value. For this we have to create model with varied k values \n",
    "\n",
    "acc_values = [] \n",
    "neighbors = np.arange(3,15)\n",
    "\n",
    "for k in neighbors:\n",
    "    classifier = KNeighborsClassifier(n_neighbors = k,metric = 'minkowski')\n",
    "    classifier.fit(X_train,y_train)\n",
    "    y_pred = classifier.predict(X_test)\n",
    "    \n",
    "    #append the accuracy value to list \n",
    "    acc = accuracy_score(y_test,y_pred)\n",
    "    acc_values.append(acc)\n",
    "print(acc_values)  "
   ]
  },
  {
   "cell_type": "code",
   "execution_count": 132,
   "id": "50cdc530",
   "metadata": {},
   "outputs": [
    {
     "data": {
      "text/plain": [
       "Text(0, 0.5, 'Accuracy')"
      ]
     },
     "execution_count": 132,
     "metadata": {},
     "output_type": "execute_result"
    },
    {
     "data": {
      "image/png": "[encoded data removed]",
      "text/plain": [
       "<Figure size 432x288 with 1 Axes>"
      ]
     },
     "metadata": {
      "needs_background": "light"
     },
     "output_type": "display_data"
    }
   ],
   "source": [
    "#Lets find for which value we got the max accuracy \n",
    "plt.plot(neighbors,acc_values, 'o-') #'o-' is shape\n",
    "plt.xlabel('kvalue')\n",
    "plt.ylabel('Accuracy')"
   ]
  },
  {
   "cell_type": "code",
   "execution_count": 134,
   "id": "c6a04d4a",
   "metadata": {},
   "outputs": [
    {
     "name": "stdout",
     "output_type": "stream",
     "text": [
      "Training KNeighborsClassifier...\n",
      "Done!\n",
      "Training time (secs): 0.001\n",
      "KNeighborsClassifier(n_neighbors=10)\n"
     ]
    }
   ],
   "source": [
    "#Running again for KNN = 10\n",
    "\n",
    "clf3 = KNeighborsClassifier(n_neighbors = 10,metric = 'minkowski')\n",
    "# Fit model to training data\n",
    "train_classifier(clf3, X_train, y_train)  \n",
    "print (clf3)"
   ]
  },
  {
   "cell_type": "code",
   "execution_count": 135,
   "id": "e0ae171a",
   "metadata": {},
   "outputs": [
    {
     "name": "stdout",
     "output_type": "stream",
     "text": [
      "Predicting labels using KNeighborsClassifier...\n",
      "Done!\n",
      "Prediction time (secs): 0.039\n",
      "F1 score for training set: 0.8132780082987551\n",
      "Predicting labels using KNeighborsClassifier...\n",
      "Done!\n",
      "Prediction time (secs): 0.008\n",
      "F1 score for test set: 0.7933884297520661\n"
     ]
    }
   ],
   "source": [
    "# Predict on training set and compute F1 score\n",
    "from sklearn.metrics import f1_score\n",
    "\n",
    "train_f1_score = predict_labels(clf3, X_train, y_train)\n",
    "print (\"F1 score for training set: {}\".format(train_f1_score))\n",
    "# Predict on test data\n",
    "print ('F1 score for test set: {}'.format(predict_labels(clf3, X_test, y_test)))"
   ]
  },
  {
   "cell_type": "markdown",
   "id": "b474d7f1",
   "metadata": {},
   "source": [
    "# Decision Tree "
   ]
  },
  {
   "cell_type": "code",
   "execution_count": 138,
   "id": "9dec0bea",
   "metadata": {},
   "outputs": [
    {
     "name": "stdout",
     "output_type": "stream",
     "text": [
      "Training DecisionTreeClassifier...\n",
      "Done!\n",
      "Training time (secs): 0.008\n",
      "DecisionTreeClassifier()\n"
     ]
    }
   ],
   "source": [
    "from sklearn.tree import DecisionTreeClassifier\n",
    "clf4 = DecisionTreeClassifier()\n",
    "\n",
    "# Fit model to training data\n",
    "train_classifier(clf4, X_train, y_train)  \n",
    "print (clf4)"
   ]
  },
  {
   "cell_type": "code",
   "execution_count": 139,
   "id": "b2b43d93",
   "metadata": {},
   "outputs": [
    {
     "name": "stdout",
     "output_type": "stream",
     "text": [
      "Predicting labels using DecisionTreeClassifier...\n",
      "Done!\n",
      "Prediction time (secs): 0.002\n",
      "F1 score for training set: 1.0\n",
      "Predicting labels using DecisionTreeClassifier...\n",
      "Done!\n",
      "Prediction time (secs): 0.001\n",
      "F1 score for test set: 0.7222222222222223\n"
     ]
    }
   ],
   "source": [
    "# Predict on training set and compute F1 score\n",
    "\n",
    "train_f1_score = predict_labels(clf4, X_train, y_train)\n",
    "print (\"F1 score for training set: {}\".format(train_f1_score))\n",
    "# Predict on test data\n",
    "print ('F1 score for test set: {}'.format(predict_labels(clf4, X_test, y_test)))"
   ]
  },
  {
   "cell_type": "markdown",
   "id": "3f2e8de2",
   "metadata": {},
   "source": [
    "# Random Forest Classifier "
   ]
  },
  {
   "cell_type": "code",
   "execution_count": 153,
   "id": "6550d1d6",
   "metadata": {},
   "outputs": [
    {
     "name": "stdout",
     "output_type": "stream",
     "text": [
      "Training RandomForestClassifier...\n",
      "Done!\n",
      "Training time (secs): 0.202\n",
      "RandomForestClassifier()\n"
     ]
    }
   ],
   "source": [
    "from sklearn.ensemble import RandomForestClassifier\n",
    "\n",
    "clf5 = RandomForestClassifier()\n",
    "\n",
    "# Fit model to training data\n",
    "train_classifier(clf5, X_train, y_train)  \n",
    "print (clf5)"
   ]
  },
  {
   "cell_type": "code",
   "execution_count": 154,
   "id": "873abd92",
   "metadata": {},
   "outputs": [
    {
     "name": "stdout",
     "output_type": "stream",
     "text": [
      "Predicting labels using RandomForestClassifier...\n",
      "Done!\n",
      "Prediction time (secs): 0.022\n",
      "F1 score for training set: 1.0\n",
      "Predicting labels using RandomForestClassifier...\n",
      "Done!\n",
      "Prediction time (secs): 0.016\n",
      "F1 score for test set: 0.8064516129032258\n"
     ]
    }
   ],
   "source": [
    "# Predict on training set and compute F1 score\n",
    "\n",
    "train_f1_score = predict_labels(clf5, X_train, y_train)\n",
    "print (\"F1 score for training set: {}\".format(train_f1_score))\n",
    "# Predict on test data\n",
    "print ('F1 score for test set: {}'.format(predict_labels(clf5, X_test, y_test)))"
   ]
  },
  {
   "cell_type": "markdown",
   "id": "e7767c38",
   "metadata": {},
   "source": [
    "# Gradient Boosting "
   ]
  },
  {
   "cell_type": "code",
   "execution_count": 155,
   "id": "ccd96d45",
   "metadata": {},
   "outputs": [
    {
     "name": "stdout",
     "output_type": "stream",
     "text": [
      "Training GradientBoostingClassifier...\n",
      "Done!\n",
      "Training time (secs): 0.130\n",
      "GradientBoostingClassifier()\n"
     ]
    }
   ],
   "source": [
    "from sklearn.ensemble import GradientBoostingClassifier\n",
    "clf6 = GradientBoostingClassifier()\n",
    "\n",
    "# Fit model to training data\n",
    "train_classifier(clf6, X_train, y_train)  \n",
    "print (clf6)"
   ]
  },
  {
   "cell_type": "code",
   "execution_count": 156,
   "id": "59e7c53b",
   "metadata": {},
   "outputs": [
    {
     "name": "stdout",
     "output_type": "stream",
     "text": [
      "Predicting labels using GradientBoostingClassifier...\n",
      "Done!\n",
      "Prediction time (secs): 0.003\n",
      "F1 score for training set: 0.9726027397260273\n",
      "Predicting labels using GradientBoostingClassifier...\n",
      "Done!\n",
      "Prediction time (secs): 0.001\n",
      "F1 score for test set: 0.7758620689655172\n"
     ]
    }
   ],
   "source": [
    "# Predict on training set and compute F1 score\n",
    "\n",
    "train_f1_score = predict_labels(clf6, X_train, y_train)\n",
    "print (\"F1 score for training set: {}\".format(train_f1_score))\n",
    "# Predict on test data\n",
    "print ('F1 score for test set: {}'.format(predict_labels(clf6, X_test, y_test)))"
   ]
  },
  {
   "cell_type": "markdown",
   "id": "688e5dec",
   "metadata": {},
   "source": [
    "# Xtreme Gradient Boosting "
   ]
  },
  {
   "cell_type": "code",
   "execution_count": 157,
   "id": "29767400",
   "metadata": {},
   "outputs": [],
   "source": [
    "#We see the target variable is binary with yes or no. We can apply label encoding which is a requirement \n",
    "#for Extreme gradient boosting\n",
    "\n",
    "from sklearn.preprocessing import LabelEncoder\n",
    "\n",
    "label_en = LabelEncoder()\n",
    "y= label_en.fit_transform(y)"
   ]
  },
  {
   "cell_type": "code",
   "execution_count": 158,
   "id": "69e61fd1",
   "metadata": {},
   "outputs": [
    {
     "name": "stdout",
     "output_type": "stream",
     "text": [
      "Training GradientBoostingClassifier...\n",
      "Done!\n",
      "Training time (secs): 0.106\n",
      "GradientBoostingClassifier()\n"
     ]
    }
   ],
   "source": [
    "from xgboost import XGBClassifier \n",
    "clf7 = GradientBoostingClassifier()\n",
    "\n",
    "# Fit model to training data\n",
    "train_classifier(clf7, X_train, y_train)  \n",
    "print (clf6)"
   ]
  },
  {
   "cell_type": "code",
   "execution_count": 159,
   "id": "588306b9",
   "metadata": {},
   "outputs": [
    {
     "name": "stdout",
     "output_type": "stream",
     "text": [
      "Predicting labels using GradientBoostingClassifier...\n",
      "Done!\n",
      "Prediction time (secs): 0.003\n",
      "F1 score for training set: 0.9681818181818181\n",
      "Predicting labels using GradientBoostingClassifier...\n",
      "Done!\n",
      "Prediction time (secs): 0.001\n",
      "F1 score for test set: 0.7999999999999999\n"
     ]
    }
   ],
   "source": [
    "# Predict on training set and compute F1 score\n",
    "\n",
    "train_f1_score = predict_labels(clf7, X_train, y_train)\n",
    "print (\"F1 score for training set: {}\".format(train_f1_score))\n",
    "# Predict on test data\n",
    "print ('F1 score for test set: {}'.format(predict_labels(clf7, X_test, y_test)))"
   ]
  },
  {
   "cell_type": "code",
   "execution_count": 5,
   "id": "d1f3887f",
   "metadata": {},
   "outputs": [
    {
     "name": "stdout",
     "output_type": "stream",
     "text": [
      "+------------+---------------+----------------+----------------+---------------+\n",
      "| Classifier | Training Time |   Prediction   |       F1       |   F1 Score    |\n",
      "|            |               |   Time(test)   |  Score(train)  |    (test)     |\n",
      "+============+===============+================+================+===============+\n",
      "| LR         | 0.034         | 0              | 0.839          | 0.803         |\n",
      "+------------+---------------+----------------+----------------+---------------+\n",
      "| SVM        | 0.013         | 0.005          | 0.857          | 0.787         |\n",
      "+------------+---------------+----------------+----------------+---------------+\n",
      "| KNN        | 0.001         | 0.008          | 0.813          | 0.793         |\n",
      "+------------+---------------+----------------+----------------+---------------+\n",
      "| DT         | 0.008         | 0.001          | 1              | 0.722         |\n",
      "+------------+---------------+----------------+----------------+---------------+\n",
      "| RF         | 0.202         | 0.016          | 1              | 0.806         |\n",
      "+------------+---------------+----------------+----------------+---------------+\n",
      "| GB         | 0.130         | 0.001          | 0.973          | 0.776         |\n",
      "+------------+---------------+----------------+----------------+---------------+\n",
      "| XGB        | 0.106         | 0.101          | 0.968          | 0.800         |\n",
      "+------------+---------------+----------------+----------------+---------------+\n"
     ]
    }
   ],
   "source": [
    "#Comparing the training and test times Vs F1 Score of each models\n",
    "\n",
    "from texttable import Texttable\n",
    "\n",
    "# texttable takes the first reocrd in the list as the column names\n",
    "# of the table\n",
    "l = [['Classifier','Training Time','Prediction Time(test)','F1 Score(train)','F1 Score (test)'],\n",
    "    ['LR', 0.034, 0.000,0.8394,0.8034],\n",
    "    ['SVM', 0.013,0.005,0.8571,0.7874],\n",
    "    ['KNN', 0.001,0.008,0.8132, 0.7933],\n",
    "    ['DT', 0.008,0.001,1.0, 0.7222],\n",
    "    ['RF', 0.202,0.016,1.0, 0.8064],\n",
    "    ['GB', 0.130,0.001,0.9726, 0.7758],\n",
    "    ['XGB', 0.106,0.101,0.9681, 0.7999]]\n",
    "\n",
    "table = Texttable()\n",
    "table.add_rows(l)\n",
    "print(table.draw())\n",
    "\n"
   ]
  },
  {
   "cell_type": "markdown",
   "id": "cb19f938",
   "metadata": {},
   "source": [
    "# Conculsion"
   ]
  },
  {
   "cell_type": "markdown",
   "id": "095d654e",
   "metadata": {},
   "source": [
    "Random forest model gives the highest F1 score of 0.806 with a relatively high compuational cost (0.202+0.016).<br>\n",
    "\n",
    "However, Logistic Regression gives an almost similar F1 score of 0.803 for much lesser training time of 0.034 and 0 prediction time. \n",
    "\n",
    "Therefore, we can choose Logistic Regression as the most effective model that uses the least amount of computation costs to save on the budget."
   ]
  },
  {
   "cell_type": "code",
   "execution_count": null,
   "id": "f8af9065",
   "metadata": {},
   "outputs": [],
   "source": []
  }
 ],
 "metadata": {
  "kernelspec": {
   "display_name": "Python 3 (ipykernel)",
   "language": "python",
   "name": "python3"
  },
  "language_info": {
   "codemirror_mode": {
    "name": "ipython",
    "version": 3
   },
   "file_extension": ".py",
   "mimetype": "text/x-python",
   "name": "python",
   "nbconvert_exporter": "python",
   "pygments_lexer": "ipython3",
   "version": "3.9.7"
  }
 },
 "nbformat": 4,
 "nbformat_minor": 5
}

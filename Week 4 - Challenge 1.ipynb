{
 "cells": [
  {
   "cell_type": "code",
   "execution_count": 1,
   "id": "fada2896",
   "metadata": {},
   "outputs": [],
   "source": [
    "#importing libraries\n",
    "\n",
    "import numpy as np\n",
    "import pandas as pd \n",
    "import matplotlib.pyplot as plt"
   ]
  },
  {
   "cell_type": "code",
   "execution_count": 3,
   "id": "1c095dab",
   "metadata": {},
   "outputs": [],
   "source": [
    "#read csv file \n",
    "df = pd.read_csv('company_sales_data.csv')"
   ]
  },
  {
   "cell_type": "code",
   "execution_count": 5,
   "id": "4ef423d2",
   "metadata": {},
   "outputs": [],
   "source": [
    "#selecting for months where facewash sales is less than 1500\n",
    "df1 = df[df['facewash']<1500]"
   ]
  },
  {
   "cell_type": "code",
   "execution_count": 6,
   "id": "4007fdf2",
   "metadata": {},
   "outputs": [
    {
     "data": {
      "text/html": [
       "<div>\n",
       "<style scoped>\n",
       "    .dataframe tbody tr th:only-of-type {\n",
       "        vertical-align: middle;\n",
       "    }\n",
       "\n",
       "    .dataframe tbody tr th {\n",
       "        vertical-align: top;\n",
       "    }\n",
       "\n",
       "    .dataframe thead th {\n",
       "        text-align: right;\n",
       "    }\n",
       "</style>\n",
       "<table border=\"1\" class=\"dataframe\">\n",
       "  <thead>\n",
       "    <tr style=\"text-align: right;\">\n",
       "      <th></th>\n",
       "      <th>month</th>\n",
       "      <th>facecream</th>\n",
       "      <th>facewash</th>\n",
       "      <th>toothpaste</th>\n",
       "      <th>bathingsoap</th>\n",
       "      <th>shampoo</th>\n",
       "      <th>moisturizer</th>\n",
       "      <th>total_units</th>\n",
       "      <th>total_profit($)</th>\n",
       "    </tr>\n",
       "  </thead>\n",
       "  <tbody>\n",
       "    <tr>\n",
       "      <th>1</th>\n",
       "      <td>FEBRUARY</td>\n",
       "      <td>2630</td>\n",
       "      <td>1200</td>\n",
       "      <td>5100</td>\n",
       "      <td>6100</td>\n",
       "      <td>2100</td>\n",
       "      <td>1200</td>\n",
       "      <td>18330</td>\n",
       "      <td>183300</td>\n",
       "    </tr>\n",
       "    <tr>\n",
       "      <th>2</th>\n",
       "      <td>MARCH</td>\n",
       "      <td>2140</td>\n",
       "      <td>1340</td>\n",
       "      <td>4550</td>\n",
       "      <td>9550</td>\n",
       "      <td>3550</td>\n",
       "      <td>1340</td>\n",
       "      <td>22470</td>\n",
       "      <td>224700</td>\n",
       "    </tr>\n",
       "    <tr>\n",
       "      <th>3</th>\n",
       "      <td>APRIL</td>\n",
       "      <td>3400</td>\n",
       "      <td>1130</td>\n",
       "      <td>5870</td>\n",
       "      <td>8870</td>\n",
       "      <td>1870</td>\n",
       "      <td>1130</td>\n",
       "      <td>22270</td>\n",
       "      <td>222700</td>\n",
       "    </tr>\n",
       "    <tr>\n",
       "      <th>6</th>\n",
       "      <td>JULY</td>\n",
       "      <td>2980</td>\n",
       "      <td>1120</td>\n",
       "      <td>4780</td>\n",
       "      <td>8980</td>\n",
       "      <td>1780</td>\n",
       "      <td>1120</td>\n",
       "      <td>29550</td>\n",
       "      <td>295500</td>\n",
       "    </tr>\n",
       "    <tr>\n",
       "      <th>7</th>\n",
       "      <td>AUGEST</td>\n",
       "      <td>3700</td>\n",
       "      <td>1400</td>\n",
       "      <td>5860</td>\n",
       "      <td>9960</td>\n",
       "      <td>2860</td>\n",
       "      <td>1400</td>\n",
       "      <td>36140</td>\n",
       "      <td>361400</td>\n",
       "    </tr>\n",
       "  </tbody>\n",
       "</table>\n",
       "</div>"
      ],
      "text/plain": [
       "      month  facecream  facewash  toothpaste  bathingsoap  shampoo  \\\n",
       "1  FEBRUARY       2630      1200        5100         6100     2100   \n",
       "2     MARCH       2140      1340        4550         9550     3550   \n",
       "3     APRIL       3400      1130        5870         8870     1870   \n",
       "6      JULY       2980      1120        4780         8980     1780   \n",
       "7    AUGEST       3700      1400        5860         9960     2860   \n",
       "\n",
       "   moisturizer  total_units  total_profit($)  \n",
       "1         1200        18330           183300  \n",
       "2         1340        22470           224700  \n",
       "3         1130        22270           222700  \n",
       "6         1120        29550           295500  \n",
       "7         1400        36140           361400  "
      ]
     },
     "execution_count": 6,
     "metadata": {},
     "output_type": "execute_result"
    }
   ],
   "source": [
    "df1"
   ]
  },
  {
   "cell_type": "code",
   "execution_count": 22,
   "id": "f65ea19f",
   "metadata": {},
   "outputs": [
    {
     "data": {
      "text/plain": [
       "['FEBRUARY', 'MARCH', 'APRIL', 'JULY', 'AUGEST']"
      ]
     },
     "execution_count": 22,
     "metadata": {},
     "output_type": "execute_result"
    }
   ],
   "source": [
    "list_month = df1['month'].to_list()\n",
    "list_month\n"
   ]
  },
  {
   "cell_type": "code",
   "execution_count": 94,
   "id": "b2236dbf",
   "metadata": {},
   "outputs": [
    {
     "data": {
      "image/png": "[encoded data removed]",
      "text/plain": [
       "<Figure size 432x288 with 1 Axes>"
      ]
     },
     "metadata": {
      "needs_background": "light"
     },
     "output_type": "display_data"
    },
    {
     "data": {
      "text/plain": [
       "<Figure size 432x288 with 0 Axes>"
      ]
     },
     "metadata": {},
     "output_type": "display_data"
    }
   ],
   "source": [
    "#define data \n",
    "x_axis = np.arange(len(list_month))\n",
    "\n",
    "# Multi bar Chart\n",
    "plt.figure(figsize=(6,4))\n",
    "plt.bar(x_axis -0.2, df1['facewash'], width=0.4, label = 'Face Wash Sales',color='gold')\n",
    "plt.bar(x_axis +0.2, df1['facecream'],width=0.4, label = 'Face Cream Sales',color = 'darkred')\n",
    "\n",
    "# Xticks\n",
    "\n",
    "plt.xticks(x_axis, list_month)\n",
    "\n",
    "#labels and titles\n",
    "plt.xlabel('Month')\n",
    "plt.ylabel('Sales units in number')\n",
    "\n",
    "plt.title('Facewash sales vs Facecream sales\\n\\n',fontsize=12,fontweight='bold')\n",
    "plt.suptitle('For the months facewash sales less than 1500',fontsize = 12)\n",
    "\n",
    "#Add grid\n",
    "plt.grid(linewidth = 1.2,linestyle = '--')\n",
    "\n",
    "# Add legend and reverse the order of the legend\n",
    "handles, labels = plt.gca().get_legend_handles_labels()\n",
    "order = [1,0]\n",
    "plt.legend([handles[idx] for idx in order],[labels[idx] for idx in order])\n",
    "\n",
    "# Display\n",
    "\n",
    "plt.show()\n",
    "plt.savefig(\"challenge1.png\",dpi=300)"
   ]
  }
 ],
 "metadata": {
  "kernelspec": {
   "display_name": "Python 3 (ipykernel)",
   "language": "python",
   "name": "python3"
  },
  "language_info": {
   "codemirror_mode": {
    "name": "ipython",
    "version": 3
   },
   "file_extension": ".py",
   "mimetype": "text/x-python",
   "name": "python",
   "nbconvert_exporter": "python",
   "pygments_lexer": "ipython3",
   "version": "3.9.7"
  }
 },
 "nbformat": 4,
 "nbformat_minor": 5
}

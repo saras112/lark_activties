{
 "cells": [
  {
   "cell_type": "markdown",
   "id": "7f0cf39d",
   "metadata": {},
   "source": [
    "1. Carry out descriptive analytics on the dataset.\n",
    "2. Check whether female and male students scored the same marks.\n",
    "3. Whether test preparation helps the students?"
   ]
  },
  {
   "cell_type": "code",
   "execution_count": 12,
   "id": "ee1f2621",
   "metadata": {},
   "outputs": [],
   "source": [
    "import numpy as np \n",
    "import pandas as pd \n",
    "import matplotlib.pyplot as plt\n",
    "import seaborn as sns\n",
    "import scipy.stats as st"
   ]
  },
  {
   "cell_type": "code",
   "execution_count": 21,
   "id": "f314d2f5",
   "metadata": {},
   "outputs": [],
   "source": [
    "df= pd.read_csv('dataset w7.csv')"
   ]
  },
  {
   "cell_type": "code",
   "execution_count": 22,
   "id": "1ace3791",
   "metadata": {
    "scrolled": true
   },
   "outputs": [
    {
     "data": {
      "text/html": [
       "<div>\n",
       "<style scoped>\n",
       "    .dataframe tbody tr th:only-of-type {\n",
       "        vertical-align: middle;\n",
       "    }\n",
       "\n",
       "    .dataframe tbody tr th {\n",
       "        vertical-align: top;\n",
       "    }\n",
       "\n",
       "    .dataframe thead th {\n",
       "        text-align: right;\n",
       "    }\n",
       "</style>\n",
       "<table border=\"1\" class=\"dataframe\">\n",
       "  <thead>\n",
       "    <tr style=\"text-align: right;\">\n",
       "      <th></th>\n",
       "      <th>Gender</th>\n",
       "      <th>Test preparation</th>\n",
       "      <th>Total Marks</th>\n",
       "    </tr>\n",
       "  </thead>\n",
       "  <tbody>\n",
       "    <tr>\n",
       "      <th>0</th>\n",
       "      <td>male</td>\n",
       "      <td>none</td>\n",
       "      <td>14</td>\n",
       "    </tr>\n",
       "    <tr>\n",
       "      <th>1</th>\n",
       "      <td>female</td>\n",
       "      <td>none</td>\n",
       "      <td>28</td>\n",
       "    </tr>\n",
       "    <tr>\n",
       "      <th>2</th>\n",
       "      <td>female</td>\n",
       "      <td>none</td>\n",
       "      <td>18</td>\n",
       "    </tr>\n",
       "    <tr>\n",
       "      <th>3</th>\n",
       "      <td>female</td>\n",
       "      <td>none</td>\n",
       "      <td>48</td>\n",
       "    </tr>\n",
       "    <tr>\n",
       "      <th>4</th>\n",
       "      <td>female</td>\n",
       "      <td>none</td>\n",
       "      <td>21</td>\n",
       "    </tr>\n",
       "  </tbody>\n",
       "</table>\n",
       "</div>"
      ],
      "text/plain": [
       "   Gender Test preparation  Total Marks\n",
       "0    male             none           14\n",
       "1  female             none           28\n",
       "2  female             none           18\n",
       "3  female             none           48\n",
       "4  female             none           21"
      ]
     },
     "execution_count": 22,
     "metadata": {},
     "output_type": "execute_result"
    }
   ],
   "source": [
    "df.head()"
   ]
  },
  {
   "cell_type": "code",
   "execution_count": 23,
   "id": "9f73f709",
   "metadata": {},
   "outputs": [
    {
     "data": {
      "text/plain": [
       "(28, 3)"
      ]
     },
     "execution_count": 23,
     "metadata": {},
     "output_type": "execute_result"
    }
   ],
   "source": [
    "df.shape"
   ]
  },
  {
   "cell_type": "code",
   "execution_count": 24,
   "id": "d508b2b3",
   "metadata": {},
   "outputs": [
    {
     "data": {
      "text/html": [
       "<div>\n",
       "<style scoped>\n",
       "    .dataframe tbody tr th:only-of-type {\n",
       "        vertical-align: middle;\n",
       "    }\n",
       "\n",
       "    .dataframe tbody tr th {\n",
       "        vertical-align: top;\n",
       "    }\n",
       "\n",
       "    .dataframe thead th {\n",
       "        text-align: right;\n",
       "    }\n",
       "</style>\n",
       "<table border=\"1\" class=\"dataframe\">\n",
       "  <thead>\n",
       "    <tr style=\"text-align: right;\">\n",
       "      <th>Test preparation</th>\n",
       "      <th>completed</th>\n",
       "      <th>none</th>\n",
       "      <th>All</th>\n",
       "    </tr>\n",
       "    <tr>\n",
       "      <th>Gender</th>\n",
       "      <th></th>\n",
       "      <th></th>\n",
       "      <th></th>\n",
       "    </tr>\n",
       "  </thead>\n",
       "  <tbody>\n",
       "    <tr>\n",
       "      <th>female</th>\n",
       "      <td>4</td>\n",
       "      <td>12</td>\n",
       "      <td>16</td>\n",
       "    </tr>\n",
       "    <tr>\n",
       "      <th>male</th>\n",
       "      <td>3</td>\n",
       "      <td>9</td>\n",
       "      <td>12</td>\n",
       "    </tr>\n",
       "    <tr>\n",
       "      <th>All</th>\n",
       "      <td>7</td>\n",
       "      <td>21</td>\n",
       "      <td>28</td>\n",
       "    </tr>\n",
       "  </tbody>\n",
       "</table>\n",
       "</div>"
      ],
      "text/plain": [
       "Test preparation  completed  none  All\n",
       "Gender                                \n",
       "female                    4    12   16\n",
       "male                      3     9   12\n",
       "All                       7    21   28"
      ]
     },
     "execution_count": 24,
     "metadata": {},
     "output_type": "execute_result"
    }
   ],
   "source": [
    "#Cross tabulating Gender and Test Preperation \n",
    "pd.crosstab(df['Gender'],df['Test preparation'], margins= True)"
   ]
  },
  {
   "cell_type": "code",
   "execution_count": 25,
   "id": "2d55cf0e",
   "metadata": {},
   "outputs": [
    {
     "data": {
      "text/html": [
       "<div>\n",
       "<style scoped>\n",
       "    .dataframe tbody tr th:only-of-type {\n",
       "        vertical-align: middle;\n",
       "    }\n",
       "\n",
       "    .dataframe tbody tr th {\n",
       "        vertical-align: top;\n",
       "    }\n",
       "\n",
       "    .dataframe thead th {\n",
       "        text-align: right;\n",
       "    }\n",
       "</style>\n",
       "<table border=\"1\" class=\"dataframe\">\n",
       "  <thead>\n",
       "    <tr style=\"text-align: right;\">\n",
       "      <th></th>\n",
       "      <th>Total Marks</th>\n",
       "    </tr>\n",
       "  </thead>\n",
       "  <tbody>\n",
       "    <tr>\n",
       "      <th>count</th>\n",
       "      <td>28.000000</td>\n",
       "    </tr>\n",
       "    <tr>\n",
       "      <th>mean</th>\n",
       "      <td>32.321429</td>\n",
       "    </tr>\n",
       "    <tr>\n",
       "      <th>std</th>\n",
       "      <td>12.454520</td>\n",
       "    </tr>\n",
       "    <tr>\n",
       "      <th>min</th>\n",
       "      <td>12.000000</td>\n",
       "    </tr>\n",
       "    <tr>\n",
       "      <th>25%</th>\n",
       "      <td>22.500000</td>\n",
       "    </tr>\n",
       "    <tr>\n",
       "      <th>50%</th>\n",
       "      <td>33.000000</td>\n",
       "    </tr>\n",
       "    <tr>\n",
       "      <th>75%</th>\n",
       "      <td>43.250000</td>\n",
       "    </tr>\n",
       "    <tr>\n",
       "      <th>max</th>\n",
       "      <td>50.000000</td>\n",
       "    </tr>\n",
       "  </tbody>\n",
       "</table>\n",
       "</div>"
      ],
      "text/plain": [
       "       Total Marks\n",
       "count    28.000000\n",
       "mean     32.321429\n",
       "std      12.454520\n",
       "min      12.000000\n",
       "25%      22.500000\n",
       "50%      33.000000\n",
       "75%      43.250000\n",
       "max      50.000000"
      ]
     },
     "execution_count": 25,
     "metadata": {},
     "output_type": "execute_result"
    }
   ],
   "source": [
    "#Conducting the descriptive analytics of data\n",
    "df.describe()"
   ]
  },
  {
   "cell_type": "code",
   "execution_count": 39,
   "id": "c1019018",
   "metadata": {},
   "outputs": [
    {
     "data": {
      "image/png": "[encoded data removed]",
      "text/plain": [
       "<Figure size 432x288 with 1 Axes>"
      ]
     },
     "metadata": {
      "needs_background": "light"
     },
     "output_type": "display_data"
    }
   ],
   "source": [
    "#checking for normal distribution of two groups \n",
    "df1=df\n",
    "\n",
    "df1_m=df1.loc[df['Gender']=='male']['Total Marks'].reset_index(drop=True)\n",
    "df1_f=df1.loc[df['Gender']=='female']['Total Marks'].reset_index(drop=True)\n",
    "df1_m = df1_f + 40\n",
    "plt.hist(df1_m, label = 'male')\n",
    "plt.hist(df1_f,label = 'female')\n",
    "\n",
    "plt.legend()\n",
    "plt.show()\n"
   ]
  },
  {
   "cell_type": "code",
   "execution_count": 51,
   "id": "937e5259",
   "metadata": {},
   "outputs": [
    {
     "name": "stdout",
     "output_type": "stream",
     "text": [
      "Statistical Value = -0.694 , p_value = 0.493782\n",
      "Failed to reject the null hypothesis. The female and male students have the same distribution of marks\n"
     ]
    }
   ],
   "source": [
    "#Check whether female and male students scored the same marks.\n",
    "\n",
    "#Two sampled T-test :-The Independent Samples t Test or 2-sample t-test compares the means of two independent groups\n",
    "#in order to determine whether there is statistical evidence that the associated population means \n",
    "#are significantly different.\n",
    "\n",
    "#Assumptions:\n",
    "#Observations in each sample are independent and identically distributed (iid).\n",
    "#Observations in each sample are normally distributed.\n",
    "#Observations in each sample have the same variance.\n",
    "\n",
    "# H0 Null hypothesis is that female and male students scored the same mean marks μ1 = μ2\n",
    "# Ha Alternate Hypothesis is that female and male students didnot score the same mean marks. μ1≠μ2\n",
    "#alpha = 0.05\n",
    "\n",
    "df_m=df.loc[df['Gender']=='male']['Total Marks']\n",
    "df_f=df.loc[df['Gender']=='female']['Total Marks']\n",
    "\n",
    "#using function ttest_ind() \n",
    "stat, p = st.ttest_ind(df_m,df_f)\n",
    "\n",
    "print('Statistical Value = %.3f , p_value = %.6f' % (stat,p))\n",
    "if p<0.05:\n",
    "    print('Reject the null hypothesis. The female and male students have different distribution of marks')\n",
    "else:\n",
    "    print('Failed to reject the null hypothesis. The female and male students have the same distribution of marks')\n",
    "\n"
   ]
  },
  {
   "cell_type": "code",
   "execution_count": 52,
   "id": "8903c373",
   "metadata": {},
   "outputs": [
    {
     "name": "stdout",
     "output_type": "stream",
     "text": [
      "Statistical Value = 3.614 , p_value = 0.001267129245732\n",
      "Reject the null hypothesis. Test preparation helps students.\n"
     ]
    }
   ],
   "source": [
    "#Whether test preparation helps the students?\n",
    "# H0 Null hypothesis is that test preparation doesnt help students or μ1 = μ2\n",
    "# Ha Alternate Hypothesis is that test preparaion help students. or μ1 ≠ μ2 \n",
    "\n",
    "#alpha = 0.05\n",
    "\n",
    "df2_m=df.loc[df['Test preparation']=='completed']['Total Marks']\n",
    "df2_f=df.loc[df['Test preparation']=='none']['Total Marks']\n",
    "\n",
    "#using function ttest_ind() \n",
    "stat, p = st.ttest_ind(df2_m,df2_f)\n",
    "\n",
    "print('Statistical Value = %.3f , p_value = %.15f' % (stat,p))\n",
    "if p<0.05:\n",
    "    print('Reject the null hypothesis. Test preparation helps students.')\n",
    "else:\n",
    "    print('Failed to reject the null hypothesis. Test preparation doesnt help students.')\n",
    "\n",
    "\n"
   ]
  },
  {
   "cell_type": "code",
   "execution_count": null,
   "id": "a221277b",
   "metadata": {},
   "outputs": [],
   "source": []
  }
 ],
 "metadata": {
  "kernelspec": {
   "display_name": "Python 3 (ipykernel)",
   "language": "python",
   "name": "python3"
  },
  "language_info": {
   "codemirror_mode": {
    "name": "ipython",
    "version": 3
   },
   "file_extension": ".py",
   "mimetype": "text/x-python",
   "name": "python",
   "nbconvert_exporter": "python",
   "pygments_lexer": "ipython3",
   "version": "3.9.7"
  }
 },
 "nbformat": 4,
 "nbformat_minor": 5
}
